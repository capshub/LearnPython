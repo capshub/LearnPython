{
 "cells": [
  {
   "cell_type": "code",
   "execution_count": 1,
   "metadata": {
    "scrolled": true
   },
   "outputs": [
    {
     "name": "stdout",
     "output_type": "stream",
     "text": [
      "123\n",
      "98.4\n",
      "Hello world\n"
     ]
    }
   ],
   "source": [
    "# Constants\n",
    "print (123)\n",
    "print (98.4)\n",
    "print ('Hello world')"
   ]
  },
  {
   "cell_type": "code",
   "execution_count": 2,
   "metadata": {
    "scrolled": true
   },
   "outputs": [
    {
     "name": "stdout",
     "output_type": "stream",
     "text": [
      "2\n",
      "7.4\n"
     ]
    }
   ],
   "source": [
    "# Variables & Assignment statement\n",
    "x=2\n",
    "y=7.4\n",
    "print (x)\n",
    "print (y)\n",
    "x=100"
   ]
  },
  {
   "cell_type": "code",
   "execution_count": 3,
   "metadata": {},
   "outputs": [
    {
     "name": "stdout",
     "output_type": "stream",
     "text": [
      "102\n"
     ]
    }
   ],
   "source": [
    "# Expressions\n",
    "# variable, operator, constant, reserved word\n",
    "x=x+2\n",
    "print(x)"
   ]
  },
  {
   "cell_type": "code",
   "execution_count": 4,
   "metadata": {},
   "outputs": [
    {
     "name": "stdout",
     "output_type": "stream",
     "text": [
      "x is smaller than 10\n"
     ]
    }
   ],
   "source": [
    "# conditional statements. Prints the first text.\n",
    "x=5\n",
    "if x <10:\n",
    "    print ('x is smaller than 10')\n",
    "if x > 20:\n",
    "    print ('x is larger than 20')"
   ]
  },
  {
   "cell_type": "code",
   "execution_count": 5,
   "metadata": {},
   "outputs": [],
   "source": [
    "# Does not print anything\n",
    "x=15\n",
    "if x <10:\n",
    "    print ('x is smaller than 10')\n",
    "if x > 20:\n",
    "    print ('x is larger than 20')"
   ]
  },
  {
   "cell_type": "code",
   "execution_count": 6,
   "metadata": {},
   "outputs": [
    {
     "name": "stdout",
     "output_type": "stream",
     "text": [
      "x is larger than 20\n"
     ]
    }
   ],
   "source": [
    "# prints the second text.\n",
    "x=25\n",
    "if x <10:\n",
    "    print ('x is smaller than 10')\n",
    "if x > 20:\n",
    "    print ('x is larger than 20')"
   ]
  },
  {
   "cell_type": "code",
   "execution_count": 7,
   "metadata": {},
   "outputs": [
    {
     "name": "stdout",
     "output_type": "stream",
     "text": [
      "This will get printed whatever is the value of x\n",
      "x is larger than 20\n",
      "x is definitely larger than 20\n"
     ]
    }
   ],
   "source": [
    "# prints the second set of texts. Show cases how indentation works.\n",
    "x=25\n",
    "if x <10:\n",
    "    print ('x is smaller than 10')\n",
    "    print ('x is definitely smaller than 10')\n",
    "print ('This will get printed whatever is the value of x')\n",
    "if x > 20:\n",
    "    print ('x is larger than 20')\n",
    "    print ('x is definitely larger than 20')"
   ]
  },
  {
   "cell_type": "code",
   "execution_count": 8,
   "metadata": {
    "scrolled": true
   },
   "outputs": [
    {
     "name": "stdout",
     "output_type": "stream",
     "text": [
      "5\n",
      "4\n",
      "3\n",
      "2\n",
      "1\n",
      "End of counting. Please note that only the indented lines are repeating\n"
     ]
    }
   ],
   "source": [
    "# Iterations:\n",
    "n=5\n",
    "while n>0:\n",
    "    print(n)\n",
    "    n=n-1\n",
    "print ('End of counting. Please note that only the indented lines are repeating')"
   ]
  },
  {
   "cell_type": "code",
   "execution_count": null,
   "metadata": {},
   "outputs": [],
   "source": [
    "# Video at 1:05 hours"
   ]
  },
  {
   "cell_type": "code",
   "execution_count": null,
   "metadata": {},
   "outputs": [],
   "source": []
  }
 ],
 "metadata": {
  "kernelspec": {
   "display_name": "Python 3",
   "language": "python",
   "name": "python3"
  },
  "language_info": {
   "codemirror_mode": {
    "name": "ipython",
    "version": 3
   },
   "file_extension": ".py",
   "mimetype": "text/x-python",
   "name": "python",
   "nbconvert_exporter": "python",
   "pygments_lexer": "ipython3",
   "version": "3.8.3"
  }
 },
 "nbformat": 4,
 "nbformat_minor": 4
}
