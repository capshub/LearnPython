{
 "cells": [
  {
   "cell_type": "code",
   "execution_count": 1,
   "metadata": {
    "scrolled": true
   },
   "outputs": [
    {
     "name": "stdout",
     "output_type": "stream",
     "text": [
      "123\n",
      "98.4\n",
      "Hello world\n"
     ]
    }
   ],
   "source": [
    "# Constants\n",
    "print (123)\n",
    "print (98.4)\n",
    "print ('Hello world')"
   ]
  },
  {
   "cell_type": "code",
   "execution_count": 2,
   "metadata": {
    "scrolled": true
   },
   "outputs": [
    {
     "name": "stdout",
     "output_type": "stream",
     "text": [
      "2\n",
      "7.4\n"
     ]
    }
   ],
   "source": [
    "# Variables & Assignment statement\n",
    "x=2\n",
    "y=7.4\n",
    "print (x)\n",
    "print (y)\n",
    "x=100"
   ]
  },
  {
   "cell_type": "code",
   "execution_count": 3,
   "metadata": {},
   "outputs": [
    {
     "name": "stdout",
     "output_type": "stream",
     "text": [
      "102\n"
     ]
    }
   ],
   "source": [
    "# Expressions\n",
    "# variable, operator, constant, reserved word\n",
    "x=x+2\n",
    "print(x)"
   ]
  },
  {
   "cell_type": "code",
   "execution_count": 4,
   "metadata": {},
   "outputs": [
    {
     "name": "stdout",
     "output_type": "stream",
     "text": [
      "x is smaller than 10\n"
     ]
    }
   ],
   "source": [
    "# conditional statements. Prints the first text.\n",
    "x=5\n",
    "if x <10:\n",
    "    print ('x is smaller than 10')\n",
    "if x > 20:\n",
    "    print ('x is larger than 20')"
   ]
  },
  {
   "cell_type": "code",
   "execution_count": 5,
   "metadata": {},
   "outputs": [],
   "source": [
    "# Does not print anything\n",
    "x=15\n",
    "if x <10:\n",
    "    print ('x is smaller than 10')\n",
    "if x > 20:\n",
    "    print ('x is larger than 20')"
   ]
  },
  {
   "cell_type": "code",
   "execution_count": 6,
   "metadata": {},
   "outputs": [
    {
     "name": "stdout",
     "output_type": "stream",
     "text": [
      "x is larger than 20\n"
     ]
    }
   ],
   "source": [
    "# prints the second text.\n",
    "x=25\n",
    "if x <10:\n",
    "    print ('x is smaller than 10')\n",
    "if x > 20:\n",
    "    print ('x is larger than 20')"
   ]
  },
  {
   "cell_type": "code",
   "execution_count": 7,
   "metadata": {},
   "outputs": [
    {
     "name": "stdout",
     "output_type": "stream",
     "text": [
      "This will get printed whatever is the value of x\n",
      "x is larger than 20\n",
      "x is definitely larger than 20\n"
     ]
    }
   ],
   "source": [
    "# prints the second set of texts. Show cases how indentation works.\n",
    "x=25\n",
    "if x <10:\n",
    "    print ('x is smaller than 10')\n",
    "    print ('x is definitely smaller than 10')\n",
    "print ('This will get printed whatever is the value of x')\n",
    "if x > 20:\n",
    "    print ('x is larger than 20')\n",
    "    print ('x is definitely larger than 20')"
   ]
  },
  {
   "cell_type": "code",
   "execution_count": 8,
   "metadata": {
    "scrolled": true
   },
   "outputs": [
    {
     "name": "stdout",
     "output_type": "stream",
     "text": [
      "5\n",
      "4\n",
      "3\n",
      "2\n",
      "1\n",
      "End of counting. Please note that only the indented lines are repeating\n"
     ]
    }
   ],
   "source": [
    "# Iterations:\n",
    "n=5\n",
    "while n>0:\n",
    "    print(n)\n",
    "    n=n-1\n",
    "print ('End of counting. Please note that only the indented lines are repeating')"
   ]
  },
  {
   "cell_type": "code",
   "execution_count": 9,
   "metadata": {},
   "outputs": [
    {
     "name": "stdout",
     "output_type": "stream",
     "text": [
      "10+2 Addition\n",
      "12\n",
      "12\n",
      "12\n",
      "----------\n"
     ]
    }
   ],
   "source": [
    "# Vid 1:06\n",
    "# Operators\n",
    "x=10\n",
    "y=x+2\n",
    "print ('10+2 Addition')\n",
    "print (y)\n",
    "print (x+2)\n",
    "print (10+2)\n",
    "print ('----------')"
   ]
  },
  {
   "cell_type": "code",
   "execution_count": 10,
   "metadata": {},
   "outputs": [
    {
     "name": "stdout",
     "output_type": "stream",
     "text": [
      "10-2 Subtraction\n",
      "8\n",
      "----------\n",
      "10*2 - Multiplication\n",
      "20\n",
      "----------\n",
      "10/2 - Division\n",
      "5.0\n",
      "----------\n",
      "10%2 - Reminder\n",
      "0\n",
      "25%3 - Reminder\n",
      "1\n",
      "----------\n",
      "10**2 - Power\n",
      "100\n",
      "----------\n"
     ]
    }
   ],
   "source": [
    "# Operators continued...\n",
    "\n",
    "print ('10-2 Subtraction')\n",
    "print (10-2)\n",
    "print ('----------')\n",
    "print ('10*2 - Multiplication')\n",
    "print (10*2)\n",
    "print ('----------')\n",
    "print ('10/2 - Division')\n",
    "print (10/2)\n",
    "print ('----------')\n",
    "print ('10%2 - Reminder')\n",
    "print (10%2)\n",
    "print ('25%3 - Reminder')\n",
    "print (25%3)\n",
    "print ('----------')\n",
    "print ('10**2 - Power')\n",
    "print (10**2)\n",
    "print ('----------')"
   ]
  },
  {
   "cell_type": "code",
   "execution_count": 11,
   "metadata": {
    "scrolled": true
   },
   "outputs": [
    {
     "name": "stdout",
     "output_type": "stream",
     "text": [
      "6.5\n",
      "6.5\n"
     ]
    }
   ],
   "source": [
    "# Operator precedence\n",
    "# Paranthesis\n",
    "# power\n",
    "# Multiplication, division\n",
    "# Addition, subtraction\n",
    "# Left to right\n",
    "\n",
    "x = 1 + 2 * 3 - 32 / 8 ** 2\n",
    "print (x)\n",
    "\n",
    "# Below paranthesis defines the precedence for the above expression accurately.\n",
    "print(1 + (2 * 3) - (32 / (8 ** 2)))\n"
   ]
  },
  {
   "cell_type": "code",
   "execution_count": 12,
   "metadata": {},
   "outputs": [
    {
     "name": "stdout",
     "output_type": "stream",
     "text": [
      "hello world\n"
     ]
    }
   ],
   "source": [
    "str='hello '+'world'\n",
    "print (str)"
   ]
  },
  {
   "cell_type": "code",
   "execution_count": 13,
   "metadata": {},
   "outputs": [],
   "source": [
    "# Adding a string to an integer is prohibited in Python.\n",
    "# Uncomment the next line to reveal the error.\n",
    "# str = str + 1"
   ]
  },
  {
   "cell_type": "code",
   "execution_count": 14,
   "metadata": {},
   "outputs": [
    {
     "name": "stdout",
     "output_type": "stream",
     "text": [
      "<class 'int'>\n",
      "<class 'float'>\n",
      "<class 'str'>\n"
     ]
    }
   ],
   "source": [
    "# Types of variables or constants.\n",
    "print (type(100))\n",
    "print (type(100.0))\n",
    "print (type('Hello'))"
   ]
  },
  {
   "cell_type": "code",
   "execution_count": 15,
   "metadata": {},
   "outputs": [
    {
     "name": "stdout",
     "output_type": "stream",
     "text": [
      "Converting String into an Integer\n",
      "100\n",
      "<class 'int'>\n",
      "Converting String into a Float\n",
      "66.66\n",
      "<class 'float'>\n",
      "------------------------------------------------------\n",
      "Adding int and float and Converting into a string\n",
      "166.66\n",
      "<class 'str'>\n"
     ]
    }
   ],
   "source": [
    "# Explicit type conversions and formatting\n",
    "strx = '100'\n",
    "stry = '66.66'\n",
    "print ('Converting String into an Integer')\n",
    "intx = int(strx)\n",
    "print (intx)\n",
    "print (type(intx))\n",
    "print ('Converting String into a Float')\n",
    "floaty = float(stry)\n",
    "print (floaty)\n",
    "print (type(floaty))\n",
    "print ('------------------------------------------------------')\n",
    "print ('Adding int and float and Converting into a string')\n",
    "strz = \"%s\"%(intx+floaty)\n",
    "print (strz)\n",
    "print (type(strz))"
   ]
  },
  {
   "cell_type": "code",
   "execution_count": 16,
   "metadata": {},
   "outputs": [
    {
     "name": "stdout",
     "output_type": "stream",
     "text": [
      "A float added to an intger results in a float\n",
      "100 + 99.9 = 199.9\n",
      "<class 'float'>\n",
      "------------------------------------------------------\n",
      "A float subtracted to/from an intger results in a float\n",
      "100 - 99.9 = 0.09999999999999432\n",
      "<class 'float'>\n",
      "------------------------------------------------------\n",
      "A float multiplied to an intger results in a float\n",
      "100 * 99.9 = 9990.0\n",
      "<class 'float'>\n"
     ]
    }
   ],
   "source": [
    "# Implicit type conversions\n",
    "x = 100\n",
    "y = 99.9\n",
    "print ('A float added to an intger results in a float')\n",
    "z = x + y\n",
    "print (\"%s + %s = %s\"%(x,y,z)) # Three arguments to the string format conversion.\n",
    "print (type(z))\n",
    "print ('------------------------------------------------------')\n",
    "print ('A float subtracted to/from an intger results in a float')\n",
    "z = x - y\n",
    "print (\"%s - %s = %s\"%(x,y,z)) # Three arguments to the string format conversion.\n",
    "print (type(z))\n",
    "print ('------------------------------------------------------')\n",
    "print ('A float multiplied to an intger results in a float')\n",
    "z = x * y\n",
    "print (\"%s * %s = %s\"%(x,y,z)) # Three arguments to the string format conversion.\n",
    "print (type(z))"
   ]
  },
  {
   "cell_type": "code",
   "execution_count": 17,
   "metadata": {},
   "outputs": [
    {
     "name": "stdout",
     "output_type": "stream",
     "text": [
      "An integer divided by an intger results in a float from Python 3 onwards\n",
      "100 / 10 = 10.0\n",
      "<class 'float'>\n"
     ]
    }
   ],
   "source": [
    "#Implicit conversions - continued...\n",
    "x = 100\n",
    "y = 10\n",
    "z = x / y\n",
    "\n",
    "print ('An integer divided by an intger results in a float from Python 3 onwards')\n",
    "print (\"%s / %s = %s\"%(x,y,z)) # Three arguments to the string format conversion.\n",
    "print (type(z))"
   ]
  },
  {
   "cell_type": "code",
   "execution_count": 18,
   "metadata": {},
   "outputs": [
    {
     "name": "stdout",
     "output_type": "stream",
     "text": [
      "What is your name? CAP\n",
      "Welcome CAP\n",
      "Input value has to be converted to corresponding number before we use it in the program\n",
      "Enter the temperature in Celcius: 36.7\n",
      "98.06 degree Farenheit\n"
     ]
    }
   ],
   "source": [
    "# User Input\n",
    "name = input ('What is your name? ')\n",
    "print ('Welcome',name)\n",
    "\n",
    "print ('Input value has to be converted to corresponding number before we use it in the program')\n",
    "TempC = input ('Enter the temperature in Celcius: ')\n",
    "TempF = 1.8 * float(TempC) + 32\n",
    "print (TempF, 'degree Farenheit')"
   ]
  }
 ],
 "metadata": {
  "kernelspec": {
   "display_name": "Python 3",
   "language": "python",
   "name": "python3"
  },
  "language_info": {
   "codemirror_mode": {
    "name": "ipython",
    "version": 3
   },
   "file_extension": ".py",
   "mimetype": "text/x-python",
   "name": "python",
   "nbconvert_exporter": "python",
   "pygments_lexer": "ipython3",
   "version": "3.8.3"
  }
 },
 "nbformat": 4,
 "nbformat_minor": 4
}
