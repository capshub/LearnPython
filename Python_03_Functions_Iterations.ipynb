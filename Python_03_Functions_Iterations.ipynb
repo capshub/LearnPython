{
 "cells": [
  {
   "cell_type": "code",
   "execution_count": 1,
   "metadata": {},
   "outputs": [
    {
     "name": "stdout",
     "output_type": "stream",
     "text": [
      "6\n",
      "11\n"
     ]
    }
   ],
   "source": [
    "x = 10\n",
    "\n",
    "# define a function called maxx. This does not execute the function.\n",
    "def maxx (num1, num2):\n",
    "    if num1 > num2 :\n",
    "        print (num1)\n",
    "    else:\n",
    "        print (num2)\n",
    "        \n",
    "x = x + 1\n",
    "# call the function named maxx\n",
    "maxx (6, 4)\n",
    "print (x)"
   ]
  },
  {
   "cell_type": "code",
   "execution_count": 2,
   "metadata": {},
   "outputs": [
    {
     "name": "stdout",
     "output_type": "stream",
     "text": [
      "Program Execution begins\n",
      "Definition of functions allowed within the program.\n",
      "Function definition completed. No statement executed from function\n",
      "5 10\n",
      "Maximum number + 1 =  11\n"
     ]
    }
   ],
   "source": [
    "# functions with return statement\n",
    "\n",
    "print (\"Program Execution begins\")\n",
    "print (\"Definition of functions allowed within the program.\")\n",
    "def maxx (num1,num2):\n",
    "    if num1 > num2 :\n",
    "        return num1\n",
    "    else:\n",
    "        return num2\n",
    "\n",
    "print (\"Function definition completed. No statement executed from function\")\n",
    "\n",
    "a = 5\n",
    "b = 10\n",
    "c = maxx (a, b) + 1\n",
    "print (a,b)\n",
    "print (\"Maximum number + 1 = \",c)"
   ]
  },
  {
   "cell_type": "code",
   "execution_count": 3,
   "metadata": {},
   "outputs": [
    {
     "name": "stdout",
     "output_type": "stream",
     "text": [
      "Enter the year: 2020\n",
      "Leap year:  True\n"
     ]
    }
   ],
   "source": [
    "# Function to find out if an year is a leap year or not.\n",
    "def is_leap(year):\n",
    "    leap = False\n",
    "    \n",
    "    # Write your logic here\n",
    "    if year % 4 == 0 :\n",
    "        if year % 100 == 0:\n",
    "            if year % 400 == 0:\n",
    "                leap = True\n",
    "            else:\n",
    "                leap = False\n",
    "        else:\n",
    "            leap = True\n",
    "    else :\n",
    "        leap = False\n",
    "        \n",
    "    return leap\n",
    "\n",
    "year = int(input(\"Enter the year: \"))\n",
    "print (\"Leap year: \", is_leap(year))"
   ]
  },
  {
   "cell_type": "code",
   "execution_count": 4,
   "metadata": {},
   "outputs": [
    {
     "name": "stdout",
     "output_type": "stream",
     "text": [
      "11\n",
      "1234567891011\n"
     ]
    }
   ],
   "source": [
    "# Loop and print successive numbers without a space.\n",
    "# Input = 5\n",
    "# Output 12345\n",
    "\n",
    "n = int(input())\n",
    "output = \"\"\n",
    "for i in range (n):\n",
    "    output = \"%s%s\" %(output,i+1)\n",
    "print(output)"
   ]
  }
 ],
 "metadata": {
  "kernelspec": {
   "display_name": "Python 3",
   "language": "python",
   "name": "python3"
  },
  "language_info": {
   "codemirror_mode": {
    "name": "ipython",
    "version": 3
   },
   "file_extension": ".py",
   "mimetype": "text/x-python",
   "name": "python",
   "nbconvert_exporter": "python",
   "pygments_lexer": "ipython3",
   "version": "3.8.3"
  }
 },
 "nbformat": 4,
 "nbformat_minor": 4
}
