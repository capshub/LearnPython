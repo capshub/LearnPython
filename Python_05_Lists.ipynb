{
 "cells": [
  {
   "cell_type": "code",
   "execution_count": 1,
   "metadata": {},
   "outputs": [
    {
     "name": "stdout",
     "output_type": "stream",
     "text": [
      "Empty list mylist belongs to <class 'list'>\n",
      "[]\n",
      "[]\n",
      "-------------------------------------------------------\n",
      "Append value 1\n",
      "[1]\n",
      "Append value 2 & 4\n",
      "[1, 2, 4]\n",
      "-------------------------------------------------------\n",
      "Insert value 3 at index 2 (Position 3)\n",
      "[1, 2, 3, 4]\n"
     ]
    }
   ],
   "source": [
    "mylist = [] #Initialise empty list.\n",
    "print ('Empty list mylist belongs to' ,(type(mylist)))\n",
    "print(mylist)\n",
    "mylist = list() #Another way to initialise empty list\n",
    "print(mylist)\n",
    "print(\"-------------------------------------------------------\")\n",
    "print ('Append value 1')\n",
    "mylist.append(1)\n",
    "print (mylist)\n",
    "print ('Append value 2 & 4')\n",
    "mylist.append(2)\n",
    "mylist.append(4)\n",
    "print (mylist)\n",
    "print(\"-------------------------------------------------------\")\n",
    "print('Insert value 3 at index 2 (Position 3)')\n",
    "mylist.insert(2,3)\n",
    "print (mylist)"
   ]
  },
  {
   "cell_type": "code",
   "execution_count": 2,
   "metadata": {},
   "outputs": [
    {
     "name": "stdout",
     "output_type": "stream",
     "text": [
      "[1, 2, 3, 4]\n",
      "Using extend function to extend the list with another list\n",
      "[1, 2, 3, 4, 10, 5, 6]\n",
      "[1, 2, 3, 4, 10, 5, 6, 7, 8, 9, 10]\n",
      "List allows duplicate values.\n",
      "-----------------------Using remove function to remove the first occurrence of 10-----------------------\n",
      "[1, 2, 3, 4, 5, 6, 7, 8, 9, 10]\n",
      "-----------------------Using del function to remove the element at Index 2 (Position 3)-----------------------\n",
      "[1, 2, 4, 5, 6, 7, 8, 9, 10]\n"
     ]
    }
   ],
   "source": [
    "# Extend and Remove and del functions of lists\n",
    "mylist = [1,2,3,4]\n",
    "new_list = [7,8,9,10]\n",
    "print (mylist)\n",
    "print ('Using extend function to extend the list with another list')\n",
    "mylist.extend([10,5,6])\n",
    "print(mylist)\n",
    "mylist.extend(new_list)\n",
    "print (mylist)\n",
    "print ('List allows duplicate values.')\n",
    "print ('-----------------------Using remove function to remove the first occurrence of 10-----------------------')\n",
    "mylist.remove(10)\n",
    "print (mylist)\n",
    "print ('-----------------------Using del function to remove the element at Index 2 (Position 3)-----------------------')\n",
    "del mylist[2]\n",
    "print (mylist)"
   ]
  },
  {
   "cell_type": "code",
   "execution_count": 3,
   "metadata": {},
   "outputs": [
    {
     "name": "stdout",
     "output_type": "stream",
     "text": [
      "Initial value of mylist =  [1, 2, 3, 4, 5, 6, 7, 8, 9, 10, 6, 6]\n",
      "Index function returns the first index of the value passed(6). Index of the lists starts with zero.\n",
      "Index returned by index function: mylist.index(6) = 5\n",
      "Count(of 6) returned by the function: mylist.count(6) = 3\n",
      "Minimum value in mylist is min(mylist) = 1\n",
      "Maximum value in mylist is max(mylist) = 10\n",
      "Sum of values in mylist is sum(mylist) = 67\n",
      "Number of values in mylist is len(mylist) = 12\n",
      "Value of mylist after executing all the functions = [1, 2, 3, 4, 5, 6, 7, 8, 9, 10, 6, 6]\n",
      "None of these funtions alter the contents of the list.\n"
     ]
    }
   ],
   "source": [
    "# Index and count functions of lists. \n",
    "mylist = [1, 2, 3, 4, 5, 6, 7, 8, 9, 10, 6, 6]\n",
    "print(\"Initial value of mylist = \",mylist)\n",
    "print ('Index function returns the first index of the value passed(6). Index of the lists starts with zero.')\n",
    "value = mylist.index(6)\n",
    "print (\"Index returned by index function: mylist.index(6) = %s\" %mylist.index(6))\n",
    "value = mylist.count(6)\n",
    "print (\"Count(of 6) returned by the function: mylist.count(6) = %s\" % mylist.count(6))\n",
    "print (\"Minimum value in mylist is min(mylist) = %s\" %min(mylist))\n",
    "print (\"Maximum value in mylist is max(mylist) = %s\" %max(mylist))\n",
    "print (\"Sum of values in mylist is sum(mylist) = %s\" %sum(mylist))\n",
    "print (\"Number of values in mylist is len(mylist) = %s\" %len(mylist))\n",
    "print (\"Value of mylist after executing all the functions = %s\" %mylist)\n",
    "print (\"None of these funtions alter the contents of the list.\")"
   ]
  },
  {
   "cell_type": "code",
   "execution_count": 4,
   "metadata": {
    "scrolled": true
   },
   "outputs": [
    {
     "name": "stdout",
     "output_type": "stream",
     "text": [
      "mylist = [1, 2, 3, 4, 5, 6, 7, 8, 9, 10]\n",
      "First element in the list: mylist[0] = 1\n",
      "Last element in the list: mylist[-1] = 10\n",
      "Slice the list from 3rd index onwards: mylist[2:] = [3, 4, 5, 6, 7, 8, 9, 10]\n",
      "Length of the slice of the list from 3rd index onwards: len(mylist[2:]) = 8\n",
      "Slice the list from -3rd index onwards: mylist[-3:] = [8, 9, 10]\n",
      "newlist = [100, 200, 300, 400, 500]\n",
      "Concatenating lists: mylist + newlist = [1, 2, 3, 4, 5, 6, 7, 8, 9, 10, 100, 200, 300, 400, 500]\n",
      "Multiplying lists: newlist * 2 = [100, 200, 300, 400, 500, 100, 200, 300, 400, 500]\n"
     ]
    }
   ],
   "source": [
    "# Slicing the lists.\n",
    "mylist = [1, 2, 3, 4, 5, 6, 7, 8, 9, 10]\n",
    "print(\"mylist = %s\" %mylist)\n",
    "print (\"First element in the list: mylist[0] = %s\" % mylist[0])\n",
    "print(\"Last element in the list: mylist[-1] = %s\" % mylist[-1])\n",
    "print(\"Slice the list from 3rd index onwards: mylist[2:] = %s\"% mylist[2:])\n",
    "print(\"Length of the slice of the list from 3rd index onwards: len(mylist[2:]) = %s\"% len(mylist[2:]))\n",
    "print(\"Slice the list from -3rd index onwards: mylist[-3:] = %s\"% mylist[-3:])\n",
    "newlist = [100,200,300,400,500]\n",
    "print(\"newlist = %s\"%newlist)\n",
    "mylist = mylist + newlist\n",
    "print (\"Concatenating lists: mylist + newlist = %s\"%mylist)\n",
    "newlist = newlist * 2\n",
    "print (\"Multiplying lists: newlist * 2 = %s\" %newlist)"
   ]
  },
  {
   "cell_type": "code",
   "execution_count": 5,
   "metadata": {},
   "outputs": [
    {
     "name": "stdout",
     "output_type": "stream",
     "text": [
      "[1, 2, 3, 4, 5, 6, 7, 8, 9, 10]\n",
      "Replacing the slice mylist[2:5]- Index 2 to Index 4\n",
      "[1, 2, 13, 14, 15, 6, 7, 8, 9, 10]\n",
      "Removing the slice mylist[2:5] - Index 2 to Index 4\n",
      "[1, 2, 6, 7, 8, 9, 10]\n",
      "2 is present in mylist\n",
      "5 is not present in mylist\n"
     ]
    }
   ],
   "source": [
    "# Slicing continued...\n",
    "mylist = [1, 2, 3, 4, 5, 6, 7, 8, 9, 10]\n",
    "print (mylist)\n",
    "print (\"Replacing the slice mylist[2:5]- Index 2 to Index 4\")\n",
    "mylist[2:5]=[13,14,15]\n",
    "print(mylist)\n",
    "print (\"Removing the slice mylist[2:5] - Index 2 to Index 4\")\n",
    "mylist[2:5]=[]\n",
    "print(mylist)\n",
    "\n",
    "if 2 in mylist:\n",
    "    print ('2 is present in mylist')\n",
    "else:\n",
    "    print ('2 is not present in mylist')\n",
    "\n",
    "if 5 not in mylist:\n",
    "    print ('5 is not present in mylist')\n",
    "else:\n",
    "    print ('5 is present in mylist')"
   ]
  },
  {
   "cell_type": "code",
   "execution_count": 6,
   "metadata": {
    "scrolled": true
   },
   "outputs": [
    {
     "name": "stdout",
     "output_type": "stream",
     "text": [
      "Original list\n",
      "[1, 2, 3, 4, 5, 6, 7, 8, 9, 10]\n",
      "Pop function returns and removes the last element from the list.\n",
      "Value popped out: 10\n",
      "[1, 2, 3, 4, 5, 6, 7, 8, 9]\n",
      "Pop function returns and removes the 6 indexed element from the list if parameter 6 is passed\n",
      "Value popped out: 7\n",
      "[1, 2, 3, 4, 5, 6, 8, 9]\n"
     ]
    }
   ],
   "source": [
    "# Pop functions of Lists\n",
    "print(\"Original list\")\n",
    "mylist = [1, 2, 3, 4, 5, 6, 7, 8, 9, 10]\n",
    "print (mylist)\n",
    "print ('Pop function returns and removes the last element from the list.')\n",
    "value = mylist.pop()\n",
    "print (\"Value popped out: %s\" %value)\n",
    "print (mylist)\n",
    "\n",
    "print ('Pop function returns and removes the 6 indexed element from the list if parameter 6 is passed')\n",
    "value = mylist.pop(6)\n",
    "print (\"Value popped out: %s\" %value)\n",
    "print (mylist)"
   ]
  },
  {
   "cell_type": "code",
   "execution_count": 7,
   "metadata": {
    "scrolled": true
   },
   "outputs": [
    {
     "name": "stdout",
     "output_type": "stream",
     "text": [
      "Original list\n",
      "[1, 12, 3, 14, 5, 16, 7, 18, 9, 20]\n",
      "Reversing the list\n",
      "[20, 9, 18, 7, 16, 5, 14, 3, 12, 1]\n",
      "Sorting the list\n",
      "[1, 3, 5, 7, 9, 12, 14, 16, 18, 20]\n",
      "Reversing the list again\n",
      "[20, 18, 16, 14, 12, 9, 7, 5, 3, 1]\n",
      "Length of the list\n",
      "10\n"
     ]
    }
   ],
   "source": [
    "# Sort and Reverse functions of Lists + Finding the length\n",
    "print(\"Original list\")\n",
    "mylist = [1, 12, 3, 14, 5, 16, 7, 18, 9, 20]\n",
    "print(mylist)\n",
    "print(\"Reversing the list\")\n",
    "mylist.reverse()\n",
    "print(mylist)\n",
    "print(\"Sorting the list\")\n",
    "mylist.sort()\n",
    "print(mylist)\n",
    "print(\"Reversing the list again\")\n",
    "mylist.reverse()\n",
    "print(mylist)\n",
    "print(\"Length of the list\")\n",
    "print(len(mylist))"
   ]
  },
  {
   "cell_type": "code",
   "execution_count": 8,
   "metadata": {
    "scrolled": true
   },
   "outputs": [
    {
     "name": "stdout",
     "output_type": "stream",
     "text": [
      "Products = ['Apple', 'Orange', 'Grapes', 'Guava', 'Banana']\n",
      "Rates = [100, 70, 80, 60, 50]\n",
      "Pricetag is a list of lists (Nested list) -> [['Apple', 'Orange', 'Grapes', 'Guava', 'Banana'], [100, 70, 80, 60, 50]]\n",
      "----------------------------------------------------------------------------------------------------\n",
      "Length of Products = 5, Length of Rates = 5, Length of Pricetag = 2\n",
      "Sub lists can be referred using the index of the main list.\n",
      "Pricetag[0]= ['Apple', 'Orange', 'Grapes', 'Guava', 'Banana'] & Pricetag[1]= [100, 70, 80, 60, 50]\n",
      "----------------------------------------------------------------------------------------------------\n",
      "Elements of sub lists can be referred using the second index of the main list.\n",
      "Product (Pricetag[0][0])= Apple & Rate(Pricetag[1][0])= 100\n",
      "Product (Pricetag[0][1])= Orange & Rate(Pricetag[1][1])= 70\n",
      "Product (Pricetag[0][2])= Grapes & Rate(Pricetag[1][2])= 80\n",
      "Product (Pricetag[0][3])= Guava & Rate(Pricetag[1][3])= 60\n",
      "Product (Pricetag[0][4])= Banana & Rate(Pricetag[1][4])= 50\n"
     ]
    }
   ],
   "source": [
    "# Nested lists\n",
    "Products = ['Apple','Orange','Grapes','Guava','Banana']\n",
    "Rates = [100,70,80,60,50]\n",
    "Pricetag = [Products,Rates]\n",
    "print(\"Products = %s\" %Products)\n",
    "print(\"Rates = %s\" %Rates)\n",
    "print (\"Pricetag is a list of lists (Nested list) -> %s\" %Pricetag)\n",
    "print(\"----------------------------------------------------------------------------------------------------\")\n",
    "print(\"Length of Products = %s, Length of Rates = %s, Length of Pricetag = %s\"%(len(Products),len(Rates),len(Pricetag)))\n",
    "print(\"Sub lists can be referred using the index of the main list.\")\n",
    "print(\"Pricetag[0]= %s\"%Pricetag[0], \"& Pricetag[1]= %s\"%Pricetag[1])\n",
    "print(\"----------------------------------------------------------------------------------------------------\")\n",
    "print(\"Elements of sub lists can be referred using the second index of the main list.\")\n",
    "for i in range (5):\n",
    "    print(\"Product (Pricetag[0][%s])= %s & Rate(Pricetag[1][%s])= %s\" %(i,Pricetag[0][i],i,Pricetag[1][i]))"
   ]
  },
  {
   "cell_type": "code",
   "execution_count": 9,
   "metadata": {},
   "outputs": [
    {
     "name": "stdout",
     "output_type": "stream",
     "text": [
      "Printing only the price tag of products whose price is greater than 75\n",
      "Product (Pricetag[0][0])= Apple & Rate(Pricetag[1][0])= 100\n",
      "Product (Pricetag[0][2])= Grapes & Rate(Pricetag[1][2])= 80\n",
      "----------------Loop both lists and print the elements one by one with data type with separator ------------\n",
      "Apple::<class 'str'>|Orange::<class 'str'>|Grapes::<class 'str'>|Guava::<class 'str'>|Banana::<class 'str'>|100::<class 'int'>|70::<class 'int'>|80::<class 'int'>|60::<class 'int'>|50::<class 'int'>|\n",
      "----------------Loop both lists and print only string elements one by one  ------------\n",
      "Apple|Orange|Grapes|Guava|Banana|"
     ]
    }
   ],
   "source": [
    "# More of traversing the lists.\n",
    "Products = ['Apple','Orange','Grapes','Guava','Banana']\n",
    "Rates = [100,70,80,60,50]\n",
    "Pricetag = [Products,Rates]\n",
    "print(\"Printing only the price tag of products whose price is greater than 75\")\n",
    "for value in Pricetag[1]:\n",
    "    if value <75:\n",
    "        continue\n",
    "    i = Pricetag[1].index(value)\n",
    "    print(\"Product (Pricetag[0][%s])= %s & Rate(Pricetag[1][%s])= %s\" %(i,Pricetag[0][i],i,Pricetag[1][i]))\n",
    "print(\"----------------Loop both lists and print the elements one by one with data type with separator ------------\")\n",
    "for lists in Pricetag:\n",
    "    for values in lists:\n",
    "        print (values,type(values),sep=\"::\",end=\"|\")\n",
    "print(\"\\n----------------Loop both lists and print only string elements one by one  ------------\")\n",
    "for lists in Pricetag:\n",
    "    for values in lists:\n",
    "        #isalpha works only for string datatype. Checks only alphabets are present in the string;.\n",
    "        if type(values)== str and values.isalpha(): \n",
    "            print (values,end=\"|\")"
   ]
  },
  {
   "cell_type": "code",
   "execution_count": 10,
   "metadata": {},
   "outputs": [
    {
     "name": "stdout",
     "output_type": "stream",
     "text": [
      "mystring = \"This is mystring\"\n",
      "For loop iteration: substr in mystring.split() = \"This\"\n",
      "list(substr)=\"['T', 'h', 'i', 's']\". Appending this to mylist.\n",
      "mylist = [['T', 'h', 'i', 's']]\n",
      "For loop iteration: substr in mystring.split() = \"is\"\n",
      "list(substr)=\"['i', 's']\". Appending this to mylist.\n",
      "mylist = [['T', 'h', 'i', 's'], ['i', 's']]\n",
      "For loop iteration: substr in mystring.split() = \"mystring\"\n",
      "list(substr)=\"['m', 'y', 's', 't', 'r', 'i', 'n', 'g']\". Appending this to mylist.\n",
      "mylist = [['T', 'h', 'i', 's'], ['i', 's'], ['m', 'y', 's', 't', 'r', 'i', 'n', 'g']]\n",
      "--------------------Reconstructing mynewstring from the list--------------------\n",
      "For loop iteration: sublist in mylist =  ['T', 'h', 'i', 's']\n",
      "''.join(sublist) = \"This\". Joining this to mynewstring\n",
      "This\n",
      "For loop iteration: sublist in mylist =  ['i', 's']\n",
      "''.join(sublist) = \"is\". Joining this to mynewstring\n",
      "This is\n",
      "For loop iteration: sublist in mylist =  ['m', 'y', 's', 't', 'r', 'i', 'n', 'g']\n",
      "''.join(sublist) = \"mystring\". Joining this to mynewstring\n",
      "This is mystring\n"
     ]
    }
   ],
   "source": [
    "# Change a String into a list and then convert it back to the string.\n",
    "mystring = 'This is mystring'\n",
    "print (\"mystring = \\\"%s\\\"\" %mystring)\n",
    "mylist = list()\n",
    "for substr in mystring.split():\n",
    "    print(\"For loop iteration: substr in mystring.split() = \\\"%s\\\"\" %substr)\n",
    "    print(\"list(substr)=\\\"%s\\\". Appending this to mylist.\" %list((substr)))\n",
    "    mylist.append(list(substr))\n",
    "    print (\"mylist =\",mylist)\n",
    "print (\"--------------------Reconstructing mynewstring from the list--------------------\")\n",
    "mynewstring = ''\n",
    "for sublist in mylist:\n",
    "    print('For loop iteration: sublist in mylist = ',sublist)\n",
    "    substr = ''.join(sublist) # Separator is an empty string ''\n",
    "    print (\"\\'\\'.join(sublist) = \\\"%s\\\". Joining this to mynewstring\" %substr)\n",
    "    if mynewstring == '':\n",
    "        mynewstring = substr\n",
    "    else:\n",
    "        mynewstring = mynewstring + ' ' + substr\n",
    "    print (mynewstring)"
   ]
  },
  {
   "cell_type": "code",
   "execution_count": 11,
   "metadata": {},
   "outputs": [],
   "source": [
    "# Next cell has the solution to this problem.\n",
    "#Consider a list (list = []). You can perform the following commands:\n",
    "#\n",
    "#insert i e: Insert integer  at position .\n",
    "#print: Print the list.\n",
    "#remove e: Delete the first occurrence of integer .\n",
    "#append e: Insert integer  at the end of the list.\n",
    "#sort: Sort the list.\n",
    "#pop: Pop the last element from the list.\n",
    "#reverse: Reverse the list.\n",
    "#Initialize your list and read in the value of  followed by  lines of commands where each command will be of \n",
    "#the  types listed above. Iterate through each command in order and perform the corresponding operation on your list.\n",
    "#\n",
    "#Example\n",
    "#\n",
    "#: Append  to the list, .\n",
    "#: Append  to the list, .\n",
    "#: Insert  at index , .\n",
    "#: Print the array.\n",
    "#Output:\n",
    "#[1, 3, 2]\n",
    "#Input Format\n",
    "#\n",
    "#The first line contains an integer, , denoting the number of commands.\n",
    "#Each line  of the  subsequent lines contains one of the commands described above.\n",
    "#\n",
    "#Constraints\n",
    "#\n",
    "#The elements added to the list must be integers.\n",
    "#Output Format\n",
    "#\n",
    "#For each command of type print, print the list on a new line.\n",
    "#\n",
    "#Sample Input 0\n",
    "#\n",
    "#12\n",
    "#insert 0 5\n",
    "#insert 1 10\n",
    "#insert 0 6\n",
    "#print\n",
    "#remove 6\n",
    "#append 9sor\n",
    "#[6, 5, 10]\n",
    "#[1, 5, 9, 10]\n",
    "#[9, 5, 1]"
   ]
  },
  {
   "cell_type": "code",
   "execution_count": 12,
   "metadata": {},
   "outputs": [
    {
     "name": "stdout",
     "output_type": "stream",
     "text": [
      "[1, 2, 30, 4, 5]\n",
      "[2, 30, 4, 5] \n",
      "\n",
      "-------Chop trims head and tail character of the list without returning anything------------ \n",
      " [2, 3, 4, 5, 4, 3, 2]\n",
      "-------Middle removes head and tail character of the list and returns a new list------------ \n",
      " [3, 4, 5, 4, 3]\n",
      "------------------Original list stays as it is--------------------------- \n",
      " [2, 3, 4, 5, 4, 3, 2]\n"
     ]
    }
   ],
   "source": [
    "# Passing List as reference to functions\n",
    "def EditList (locallist):\n",
    "    locallist[2]=30 # This will inturn change the content of mylist[2] as well.\n",
    "    locallist = locallist[1:] # This will not have any impact on mylist.\n",
    "mylist = [1,2,3,4,5]\n",
    "EditList(mylist)\n",
    "print(mylist)\n",
    "mylist = mylist [1:] #This will impact mylist.\n",
    "print(mylist,'\\n',)\n",
    "def Chop(locallist):\n",
    "    del locallist[0]\n",
    "    del locallist[-1]\n",
    "def Middle(locallist):\n",
    "    return (locallist[1:-1])\n",
    "mylist = [1,2,3,4,5,4,3,2,1]\n",
    "Chop(mylist)\n",
    "print('-------Chop trims head and tail character of the list without returning anything------------','\\n',mylist)\n",
    "print('-------Middle removes head and tail character of the list and returns a new list------------','\\n',Middle(mylist))\n",
    "print('------------------Original list stays as it is---------------------------','\\n',mylist)"
   ]
  },
  {
   "cell_type": "code",
   "execution_count": 13,
   "metadata": {},
   "outputs": [
    {
     "name": "stdout",
     "output_type": "stream",
     "text": [
      "8\n",
      "append 23\n",
      "append 12\n",
      "append 78\n",
      "print\n",
      "[23, 12, 78]\n",
      "reverse\n",
      "print\n",
      "[78, 12, 23]\n",
      "sort\n",
      "print\n",
      "[12, 23, 78]\n"
     ]
    }
   ],
   "source": [
    "# Program for the above problem.\n",
    "N = int(input())\n",
    "MyList = list()\n",
    "\n",
    "for i in range (N):\n",
    "    inpstr = input().split() # Split function splits a string and returns a list\n",
    "    if inpstr[0] == 'print':\n",
    "        print(MyList)\n",
    "    else:\n",
    "        arguments = inpstr[1:]\n",
    "        command = inpstr[0]+\"(\" + ','.join(arguments) +\")\"        \n",
    "        # Join function joins a list into a string with separator (In this case ',') in between.\n",
    "        # Syntax for join function: <separator string>.join(List_Containing_Values)\n",
    "        eval(\"MyList.\"+command)"
   ]
  },
  {
   "cell_type": "code",
   "execution_count": 15,
   "metadata": {},
   "outputs": [
    {
     "name": "stdout",
     "output_type": "stream",
     "text": [
      "[1, 3, 5, 7, 9, 11, 13, 15, 17, 19, 21, 23]\n",
      "2\n",
      "3\n",
      "1\n",
      "3\n",
      "[[0, 0, 0], [0, 0, 1], [0, 1, 0], [0, 1, 1], [0, 2, 0], [0, 3, 1], [1, 0, 0], [1, 0, 1], [1, 1, 0], [1, 2, 1], [1, 3, 0], [1, 3, 1], [2, 0, 0], [2, 1, 1], [2, 2, 0], [2, 2, 1], [2, 3, 0], [2, 3, 1]]\n"
     ]
    }
   ],
   "source": [
    "# Without using List functions, we can add elements to a List using range function if the criteria is met.\n",
    "# Here we create a list of all odd numbers less than 25.\n",
    "\n",
    "output = [n for n in range(25) if n%2==1]\n",
    "print (output)\n",
    "\n",
    "# Without using nested loops, we can generate lists containing sub lists using ranges subject to a criteria being met.\n",
    "# Here we create a list with all possible sub lists of 3 elements each capped at x,y,z where their sum will not be n. \n",
    "x=int(input())\n",
    "y=int(input())\n",
    "z=int(input())\n",
    "n=int(input())\n",
    "\n",
    "output = [[i,j,k] for i in range(x+1) for j in range (y+1) for k in range (z+1) if i+j+k != n]\n",
    "print (output)\n"
   ]
  },
  {
   "cell_type": "code",
   "execution_count": 16,
   "metadata": {},
   "outputs": [
    {
     "name": "stdout",
     "output_type": "stream",
     "text": [
      "8\n"
     ]
    }
   ],
   "source": [
    "mylist = [1, 2, 3, 4, 5, 6, 7, 8, 9, 10]\n",
    "print (len(range(2,10)))"
   ]
  },
  {
   "cell_type": "code",
   "execution_count": null,
   "metadata": {},
   "outputs": [],
   "source": []
  }
 ],
 "metadata": {
  "kernelspec": {
   "display_name": "Python 3",
   "language": "python",
   "name": "python3"
  },
  "language_info": {
   "codemirror_mode": {
    "name": "ipython",
    "version": 3
   },
   "file_extension": ".py",
   "mimetype": "text/x-python",
   "name": "python",
   "nbconvert_exporter": "python",
   "pygments_lexer": "ipython3",
   "version": "3.8.3"
  }
 },
 "nbformat": 4,
 "nbformat_minor": 4
}
