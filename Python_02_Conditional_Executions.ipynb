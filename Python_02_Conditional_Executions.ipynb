{
 "cells": [
  {
   "cell_type": "code",
   "execution_count": 1,
   "metadata": {},
   "outputs": [
    {
     "name": "stdout",
     "output_type": "stream",
     "text": [
      "5 is less than 10\n",
      "5 is less than or equal to 10\n",
      "5 is not greater than 10\n",
      "5 is not greater than or equal to 10\n",
      "5 is not equal to 10\n"
     ]
    }
   ],
   "source": [
    "# Chapter 3: Conditional execution - Vid - 1:25\n",
    "x = 5\n",
    "y= 10\n",
    "if x < y :\n",
    "    print (\"%s is less than %s\"%(x,y))\n",
    "else :\n",
    "    print (\"%s is not less than %s\"%(x,y))\n",
    "if x <= y :\n",
    "    print (\"%s is less than or equal to %s\"%(x,y))\n",
    "else :\n",
    "    print (\"%s is not less than or equal to %s\"%(x,y))\n",
    "if x > y :\n",
    "    print (\"%s is greater than %s\"%(x,y))\n",
    "else :\n",
    "    print (\"%s is not greater than %s\"%(x,y))\n",
    "if x >= y :\n",
    "    print (\"%s is greater than or equal to %s\"%(x,y))\n",
    "else :\n",
    "    print (\"%s is not greater than or equal to %s\"%(x,y))\n",
    "if x == y :\n",
    "    print (\"%s is equal to %s\"%(x,y))\n",
    "if x != y :\n",
    "    print (\"%s is not equal to %s\"%(x,y))"
   ]
  },
  {
   "cell_type": "code",
   "execution_count": 2,
   "metadata": {},
   "outputs": [
    {
     "name": "stdout",
     "output_type": "stream",
     "text": [
      "x is greater than 1\n",
      "x is less than 100\n",
      "3\n",
      "4\n",
      "Execution over\n"
     ]
    }
   ],
   "source": [
    "# For nested conditional statements or iterations, indendations decide the scope of the loop.\n",
    "x = 4\n",
    "if x > 1 :\n",
    "    print ('x is greater than 1')\n",
    "    if x < 100 :\n",
    "        print ('x is less than 100')\n",
    "        \n",
    "for x in range (5):\n",
    "    if x > 2:\n",
    "        print (x)\n",
    "        \n",
    "print ('Execution over')"
   ]
  },
  {
   "cell_type": "code",
   "execution_count": 3,
   "metadata": {},
   "outputs": [
    {
     "name": "stdout",
     "output_type": "stream",
     "text": [
      "0 -Grade C\n",
      "1 -Grade C\n",
      "2 -Grade C\n",
      "3 -Grade B\n",
      "4 -Grade B\n",
      "5 -Grade B\n",
      "6 -Grade A\n",
      "7 -Grade A\n",
      "8 -Grade A\n",
      "9 -Grade A\n",
      "10 -Grade S\n",
      "Program execution completed\n"
     ]
    }
   ],
   "source": [
    "# Multi way conditional statements.\n",
    "for x in range (11):\n",
    "    if x < 3 :\n",
    "        print (x,'-Grade C')\n",
    "    elif x < 6 :\n",
    "        print (x,'-Grade B')\n",
    "    elif x < 10 :\n",
    "        print (x,'-Grade A')\n",
    "    else :\n",
    "        print (x,'-Grade S')\n",
    "print ('Program execution completed')"
   ]
  },
  {
   "cell_type": "code",
   "execution_count": 4,
   "metadata": {},
   "outputs": [
    {
     "name": "stdout",
     "output_type": "stream",
     "text": [
      "Value successfully converted\n",
      "First string is: 500. Value in the First string is 500\n",
      "Python exception is handled\n",
      "Second string is ABC. Value in the Second string is -1\n"
     ]
    }
   ],
   "source": [
    "# Vid 1:48 - Try & Except\n",
    "\n",
    "mystring = \"500\"\n",
    "try:\n",
    "    myvalue = int (mystring)\n",
    "    print(\"Value successfully converted\")\n",
    "except:\n",
    "    print (\"Python exception is handled\")\n",
    "print (\"First string is: %s. Value in the First string is %s\"%(mystring,myvalue))\n",
    "\n",
    "mystring = \"ABC\"\n",
    "try:\n",
    "    myvalue = int (mystring)\n",
    "    print(\"Value successfully converted\")\n",
    "except:\n",
    "    print (\"Python exception is handled\")\n",
    "    myvalue = -1\n",
    "\n",
    "print (\"Second string is %s. Value in the Second string is %s\"%(mystring,myvalue))\n"
   ]
  },
  {
   "cell_type": "code",
   "execution_count": 5,
   "metadata": {},
   "outputs": [
    {
     "name": "stdout",
     "output_type": "stream",
     "text": [
      "Enter number of hours: 50\n",
      "Enter rate: 10\n",
      "Pay:  550.0\n"
     ]
    }
   ],
   "source": [
    "sh = input (\"Enter number of hours: \")\n",
    "sr = input (\"Enter rate: \")\n",
    "\n",
    "try:\n",
    "    fh = float (sh)\n",
    "    fr = float (sr)\n",
    "except:\n",
    "    print (\"Enter only numeric values.\")\n",
    "    quit()\n",
    "\n",
    "if (fh > 40):\n",
    "    pay = 40 * fr + (fh-40) * fr * 1.5\n",
    "else:\n",
    "    pay = fh * fr\n",
    "    \n",
    "print (\"Pay: \", pay)"
   ]
  }
 ],
 "metadata": {
  "kernelspec": {
   "display_name": "Python 3",
   "language": "python",
   "name": "python3"
  },
  "language_info": {
   "codemirror_mode": {
    "name": "ipython",
    "version": 3
   },
   "file_extension": ".py",
   "mimetype": "text/x-python",
   "name": "python",
   "nbconvert_exporter": "python",
   "pygments_lexer": "ipython3",
   "version": "3.8.3"
  }
 },
 "nbformat": 4,
 "nbformat_minor": 4
}
