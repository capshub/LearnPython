{
 "cells": [
  {
   "cell_type": "code",
   "execution_count": 1,
   "metadata": {},
   "outputs": [],
   "source": [
    "# Initialise a string.\n",
    "mystring = 'Banana' # Initialises the string variable mystring\n",
    "mychar = mystring [0] # Copies the first letter to mychar\n",
    "print (mychar)\n",
    "print (\"Length of mystring = %s\"%len(mystring))\n",
    "print (\"---------------------- Printing the characters using While loop ---------------------------\")\n",
    "i = 0\n",
    "while i < len(mystring):\n",
    "    letter = mystring[i]\n",
    "    print (letter)\n",
    "    i+=1\n",
    "print (\"---------------------- Printing the characters using For loop ---------------------------\")\n",
    "for character in mystring:\n",
    "    print (character)"
   ]
  },
  {
   "cell_type": "code",
   "execution_count": 2,
   "metadata": {},
   "outputs": [],
   "source": [
    "# Slicing the strings.\n",
    "\n",
    "mystring = \"ABCDEFGHIJKLMNOPQRSTUVWXYZ\"\n",
    "print (\"mystring = %s\"%mystring)\n",
    "print (\"Index starts from 0. Last index 5 is not included.  mystring[2:5] = %s\" %mystring[2:5])\n",
    "print (\"Printing upto index 5. mystring[:6] = %s\" %mystring[:6])\n",
    "print (\"Slicing the last 5 characters. mystring[-5:] = %s\" %mystring[-5:])\n",
    "print (\"Slice returns full string: mystring [:] = %s\" %mystring[:])\n",
    "print (\"Slice returns Null string: mystring [5:4] = %s\" %mystring[5:4])\n",
    "print (\"Slice returns Null string: mystring [4:4] = %s\" %mystring[4:4])"
   ]
  },
  {
   "cell_type": "code",
   "execution_count": 3,
   "metadata": {},
   "outputs": [
    {
     "name": "stdout",
     "output_type": "stream",
     "text": [
      "Original string:  ABCDEFGHIJKLMNOPQRSTUVWXYZ\n",
      "Change the first character and printing the same.  aBCDEFGHIJKLMNOPQRSTUVWXYZ\n"
     ]
    }
   ],
   "source": [
    "# Strings are immutable (values cannot be changed). Alternate ways to manipulate the values.\n",
    "\n",
    "mystring = \"ABCDEFGHIJKLMNOPQRSTUVWXYZ\"\n",
    "print (\"Original string: \",mystring)\n",
    "newstring= \"a\"+mystring[1:]\n",
    "print (\"Change the first character and printing the same. \",newstring)"
   ]
  },
  {
   "cell_type": "code",
   "execution_count": 4,
   "metadata": {},
   "outputs": [
    {
     "name": "stdout",
     "output_type": "stream",
     "text": [
      "Using For loop only: Number of Vowels in \"Python has full stack ecosystem\": 7\n"
     ]
    }
   ],
   "source": [
    "# Looping string characters.\n",
    "\n",
    "myword = 'Python has full stack ecosystem'\n",
    "count = 0\n",
    "for letter in myword:\n",
    "    if (letter == 'a' or letter == 'e' or letter == 'i' or letter == 'o' or letter == 'u'):\n",
    "        count = count + 1\n",
    "print (\"Using For loop only: Number of Vowels in \\\"%s\\\": %s\"%(myword,count))\n"
   ]
  },
  {
   "cell_type": "code",
   "execution_count": 5,
   "metadata": {},
   "outputs": [
    {
     "name": "stdout",
     "output_type": "stream",
     "text": [
      "word1 is Atlas\n",
      "Variable myword contains something about Python.\n",
      "word 2: Bouncer is greater than word 1:Atlas\n"
     ]
    }
   ],
   "source": [
    "# String Comparision\n",
    "\n",
    "myword = 'Python has full stack ecosystem'\n",
    "\n",
    "word1 = \"Atlas\"\n",
    "word2 = \"Bouncer\"\n",
    "word3 = \"Catalog\"\n",
    "\n",
    "if word1 == \"Atlas\":\n",
    "    print (\"word1 is Atlas\")\n",
    "\n",
    "if 'Python' in myword:\n",
    "    print (\"Variable myword contains something about Python.\")\n",
    "    \n",
    "if word1 > word2:\n",
    "    print (\"word 1: %s is greater than word 2:%s\" %(word1,word2))\n",
    "else:\n",
    "    print (\"word 2: %s is greater than word 1:%s\" %(word2,word1))"
   ]
  },
  {
   "cell_type": "code",
   "execution_count": 6,
   "metadata": {},
   "outputs": [
    {
     "name": "stdout",
     "output_type": "stream",
     "text": [
      "List of string functions are:  ['__add__', '__class__', '__contains__', '__delattr__', '__dir__', '__doc__', '__eq__', '__format__', '__ge__', '__getattribute__', '__getitem__', '__getnewargs__', '__gt__', '__hash__', '__init__', '__init_subclass__', '__iter__', '__le__', '__len__', '__lt__', '__mod__', '__mul__', '__ne__', '__new__', '__reduce__', '__reduce_ex__', '__repr__', '__rmod__', '__rmul__', '__setattr__', '__sizeof__', '__str__', '__subclasshook__', 'capitalize', 'casefold', 'center', 'count', 'encode', 'endswith', 'expandtabs', 'find', 'format', 'format_map', 'index', 'isalnum', 'isalpha', 'isascii', 'isdecimal', 'isdigit', 'isidentifier', 'islower', 'isnumeric', 'isprintable', 'isspace', 'istitle', 'isupper', 'join', 'ljust', 'lower', 'lstrip', 'maketrans', 'partition', 'replace', 'rfind', 'rindex', 'rjust', 'rpartition', 'rsplit', 'rstrip', 'split', 'splitlines', 'startswith', 'strip', 'swapcase', 'title', 'translate', 'upper', 'zfill']\n",
      "_____________________________________________________________________________________________________\n",
      "Help on method_descriptor:\n",
      "\n",
      "find(...)\n",
      "    S.find(sub[, start[, end]]) -> int\n",
      "    \n",
      "    Return the lowest index in S where substring sub is found,\n",
      "    such that sub is contained within S[start:end].  Optional\n",
      "    arguments start and end are interpreted as in slice notation.\n",
      "    \n",
      "    Return -1 on failure.\n",
      "\n",
      "None\n"
     ]
    }
   ],
   "source": [
    "# String functions.\n",
    "mystring = \"hello\"\n",
    "print (\"List of string functions are: \", dir(mystring))\n",
    "print (\"_____________________________________________________________________________________________________\")\n",
    "print (help(str.find))"
   ]
  },
  {
   "cell_type": "code",
   "execution_count": 7,
   "metadata": {
    "scrolled": true
   },
   "outputs": [
    {
     "name": "stdout",
     "output_type": "stream",
     "text": [
      "mystring = \"hello\"\n",
      "mystring.capitalize() = \"Hello\"\n",
      "mystring.capitalize().swapcase() = \"hELLO\"\n",
      "mystring.upper() = \"HELLO\"\n",
      "mystring.upper().lower() = \"hello\"\n",
      "_____________________________________________________________________________________________________\n",
      "mystring = \"Apple;Orange;Banana;Pine apple;Lemon \"\n",
      "First occurrence of ; - mystring.find(';') = 5.\n",
      "Next occurrence of ; on or after index 6 - mystring.find(';',6) = 12.\n",
      "First occurrence of e; - mystring.find('e;') = 4.\n",
      "First occurrence of @ (not available in mystring) - mystring.find('@') = -1.\n",
      "Count of ; in mystring - mystring.count(';'):  4\n"
     ]
    }
   ],
   "source": [
    "mystring = 'hello'\n",
    "print (\"mystring = \\\"%s\\\"\" %mystring)\n",
    "print (\"mystring.capitalize() = \\\"%s\\\"\" %mystring.capitalize())\n",
    "print (\"mystring.capitalize().swapcase() = \\\"%s\\\"\" %mystring.capitalize().swapcase())\n",
    "print (\"mystring.upper() = \\\"%s\\\"\" %mystring.upper())\n",
    "print (\"mystring.upper().lower() = \\\"%s\\\"\" %mystring.upper().lower())\n",
    "print (\"_____________________________________________________________________________________________________\")\n",
    "mystring = \"Apple;Orange;Banana;Pine apple;Lemon \"\n",
    "print (\"mystring = \\\"%s\\\"\" % mystring)\n",
    "print (\"First occurrence of ; - mystring.find(';') = %s.\" % mystring.find(';'))\n",
    "print (\"Next occurrence of ; on or after index 6 - mystring.find(';',6) = %s.\" % mystring.find(';',6))\n",
    "print (\"First occurrence of e; - mystring.find('e;') = %s.\" % mystring.find('e;'))\n",
    "print (\"First occurrence of @ (not available in mystring) - mystring.find('@') = %s.\" % mystring.find('@'))\n",
    "print (\"Count of ; in mystring - mystring.count(';'): \",mystring.count(';'))"
   ]
  },
  {
   "cell_type": "code",
   "execution_count": null,
   "metadata": {},
   "outputs": [],
   "source": []
  },
  {
   "cell_type": "code",
   "execution_count": 8,
   "metadata": {},
   "outputs": [
    {
     "name": "stdout",
     "output_type": "stream",
     "text": [
      "mystring = \"hello1234\"\n",
      "mystring.startswith('he') = True\n",
      "mystring.endswith('34') = True\n",
      "mystring.isupper() = False\n",
      "mystring.isnumeric() = False\n",
      "mystring.isalpha() = False\n",
      "mystring.isalnum() = True\n",
      "mystring.isascii() = True\n",
      "mystring.isdigit() = False\n",
      "mystring.islower() = True\n",
      "mystring.isupper() = False\n",
      "mystring.upper().isupper() = True\n"
     ]
    }
   ],
   "source": [
    "# Logical functions\n",
    "mystring = 'hello1234' \n",
    "print (\"mystring = \\\"%s\\\"\" %mystring)\n",
    "print (\"mystring.startswith('he') = %s\" % mystring.startswith('he'))\n",
    "print (\"mystring.endswith('34') = %s\" % mystring.endswith('34'))\n",
    "print (\"mystring.isupper() = %s\" % mystring.isupper())\n",
    "print (\"mystring.isnumeric() = %s\" % mystring.isnumeric())\n",
    "print (\"mystring.isalpha() = %s\" % mystring.isalpha())\n",
    "print (\"mystring.isalnum() = %s\" % mystring.isalnum())\n",
    "print (\"mystring.isascii() = %s\" % mystring.isascii())\n",
    "print (\"mystring.isdigit() = %s\" % mystring.isdigit())\n",
    "print (\"mystring.islower() = %s\" % mystring.islower())\n",
    "print (\"mystring.isupper() = %s\" % mystring.isupper())\n",
    "print (\"mystring.upper().isupper() = %s\" % mystring.upper().isupper())"
   ]
  },
  {
   "cell_type": "code",
   "execution_count": 9,
   "metadata": {},
   "outputs": [
    {
     "name": "stdout",
     "output_type": "stream",
     "text": [
      "mystring = \"987.8\"\n",
      "mystring.isnumeric() = False\n",
      "mystring.isdigit() = False\n",
      "mystring.isdecimal() = False\n",
      "mystring.isprintable() = True\n",
      "mystring.isspace() = False\n"
     ]
    }
   ],
   "source": [
    "mystring = '987.8'\n",
    "print (\"mystring = \\\"%s\\\"\" %mystring)\n",
    "print (\"mystring.isnumeric() = %s\" % mystring.isnumeric())\n",
    "print (\"mystring.isdigit() = %s\" % mystring.isdigit())\n",
    "print (\"mystring.isdecimal() = %s\" % mystring.isdecimal())\n",
    "print (\"mystring.isprintable() = %s\" % mystring.isprintable())\n",
    "print (\"mystring.isspace() = %s\" % mystring.isspace())"
   ]
  },
  {
   "cell_type": "code",
   "execution_count": 10,
   "metadata": {},
   "outputs": [
    {
     "name": "stdout",
     "output_type": "stream",
     "text": [
      "mystring = \"12345\"\n",
      "mystring.center(7) = \" 12345 \"\n",
      "mystring.ljust(8) = \"12345   \"\n",
      "mystring.rjust(8) = \"   12345\"\n",
      "mystring.center(7,'0') = \"0123450\"\n",
      "mystring.ljust(8,'0') = \"12345000\"\n",
      "mystring.rjust(8,'0') = \"00012345\"\n",
      "mystring.zfill(8) = \"00012345\" - zfill works the sameway as rjust with fill character 0\n",
      "_____________________________________________________________________________________________________\n",
      "mystring = \"   12345   \"\n",
      "mystring.lstrip() = \"12345   \"\n",
      "mystring.rstrip() = \"   12345\"\n",
      "mystring.strip() = \"12345\"\n"
     ]
    }
   ],
   "source": [
    "# justifying(Padding) and stripping.\n",
    "mystring = \"12345\"\n",
    "print (\"mystring = \\\"%s\\\"\" %mystring)\n",
    "print (\"mystring.center(7) = \\\"%s\\\"\" % mystring.center(7))\n",
    "print (\"mystring.ljust(8) = \\\"%s\\\"\" % mystring.ljust(8))\n",
    "print (\"mystring.rjust(8) = \\\"%s\\\"\" % mystring.rjust(8))\n",
    "print (\"mystring.center(7,'0') = \\\"%s\\\"\" % mystring.center(7,'0'))\n",
    "print (\"mystring.ljust(8,'0') = \\\"%s\\\"\" % mystring.ljust(8,'0'))\n",
    "print (\"mystring.rjust(8,'0') = \\\"%s\\\"\" % mystring.rjust(8,'0'))\n",
    "print (\"mystring.zfill(8) = \\\"%s\\\" - zfill works the sameway as rjust with fill character 0\" % mystring.zfill(8))\n",
    "print (\"_____________________________________________________________________________________________________\")\n",
    "mystring = \"   12345   \"\n",
    "print (\"mystring = \\\"%s\\\"\" %mystring)\n",
    "print (\"mystring.lstrip() = \\\"%s\\\"\" % mystring.lstrip())\n",
    "print (\"mystring.rstrip() = \\\"%s\\\"\" % mystring.rstrip())\n",
    "print (\"mystring.strip() = \\\"%s\\\"\" % mystring.strip())"
   ]
  },
  {
   "cell_type": "code",
   "execution_count": 11,
   "metadata": {},
   "outputs": [],
   "source": [
    "# Split , splitlines, Join & Partition\n",
    "# Later after learning Lists."
   ]
  },
  {
   "cell_type": "code",
   "execution_count": 12,
   "metadata": {},
   "outputs": [
    {
     "name": "stdout",
     "output_type": "stream",
     "text": [
      "Parameter type 1: Student name: John and Age 23\n",
      "Parameter type 2: Student name: John and Age 23\n",
      "Parameter type 3: Student name: John and Age 23\n",
      "_________________________________________________________________________________________\n",
      "Decimal: 15,Binary: 1111, Octa: 17, Hexa: f, Hexa Upper: F\n",
      "Decimal: 15,Binary: 1111, Octa: 17, Hexa: f, Hexa Upper: F\n",
      "Decimal: 15,Binary: 1111, Octa: 17, Hexa: f, Hexa Upper: F\n",
      "____________________Formatting to fixed points & %_______________________________________\n",
      "Parameter type 3: Student name: John and Age     23.00\n",
      "Final marks: 95.000000%\n",
      "Print + Sign as well here-> +5. Also, print - sign only for5 and-5 that too only if applicable\n",
      "Comma as thousand separator: 1,000,000;_as thousand separator 1_000_000\n"
     ]
    }
   ],
   "source": [
    "# String.Format\n",
    "print (\"Parameter type 1: Student name: {} and Age {}\".format(\"John\",23))\n",
    "print (\"Parameter type 2: Student name: {1} and Age {0}\".format(23,\"John\"))\n",
    "print (\"Parameter type 3: Student name: {n} and Age {a}\".format(n=\"John\",a=23))\n",
    "print (\"_________________________________________________________________________________________\")\n",
    "print (\"Decimal: {:d},Binary: {:b}, Octa: {:o}, Hexa: {:x}, Hexa Upper: {:X}\".format(15,15,15,15,15))\n",
    "print (\"Decimal: {0:d},Binary: {1:b}, Octa: {2:o}, Hexa: {3:x}, Hexa Upper: {4:X}\".format(15,15,15,15,15))\n",
    "print (\"Decimal: {p1:d},Binary: {p2:b}, Octa: {p3:o}, Hexa: {p4:x}, Hexa Upper: {p5:X}\".format(p1=15,p2=15,p3=15,p4=15,p5=15))\n",
    "print (\"____________________Formatting to fixed points & %_______________________________________\")\n",
    "print (\"Parameter type 3: Student name: {name} and Age {age:9.2f}\".format(name=\"John\",age=23))\n",
    "print (\"Final marks: {score:%}\".format(score=19/20))\n",
    "print (\"Print + Sign as well here-> {:+}. Also, print - sign only for{:-} and{:-} that too only if applicable\".format(5,5,-5))\n",
    "print (\"Comma as thousand separator: {:,};_as thousand separator {:_}\".format(1000000,1000000))"
   ]
  },
  {
   "cell_type": "code",
   "execution_count": 13,
   "metadata": {},
   "outputs": [],
   "source": [
    "# String.Format_map\n",
    "# To be completed later after learning dictionaries."
   ]
  },
  {
   "cell_type": "code",
   "execution_count": 14,
   "metadata": {},
   "outputs": [
    {
     "name": "stdout",
     "output_type": "stream",
     "text": [
      "['__add__', '__class__', '__contains__', '__delattr__', '__dir__', '__doc__', '__eq__', '__format__', '__ge__', '__getattribute__', '__getitem__', '__getnewargs__', '__gt__', '__hash__', '__init__', '__init_subclass__', '__iter__', '__le__', '__len__', '__lt__', '__mod__', '__mul__', '__ne__', '__new__', '__reduce__', '__reduce_ex__', '__repr__', '__rmod__', '__rmul__', '__setattr__', '__sizeof__', '__str__', '__subclasshook__', 'capitalize', 'casefold', 'center', 'count', 'encode', 'endswith', 'expandtabs', 'find', 'format', 'format_map', 'index', 'isalnum', 'isalpha', 'isascii', 'isdecimal', 'isdigit', 'isidentifier', 'islower', 'isnumeric', 'isprintable', 'isspace', 'istitle', 'isupper', 'join', 'ljust', 'lower', 'lstrip', 'maketrans', 'partition', 'replace', 'rfind', 'rindex', 'rjust', 'rpartition', 'rsplit', 'rstrip', 'split', 'splitlines', 'startswith', 'strip', 'swapcase', 'title', 'translate', 'upper', 'zfill']\n",
      "Help on method_descriptor:\n",
      "\n",
      "expandtabs(self, /, tabsize=8)\n",
      "    Return a copy where all tab characters are expanded using spaces.\n",
      "    \n",
      "    If tabsize is not given, a tab size of 8 characters is assumed.\n",
      "\n",
      "None\n"
     ]
    }
   ],
   "source": [
    "print (dir(str))\n",
    "print (help(str.expandtabs))"
   ]
  }
 ],
 "metadata": {
  "kernelspec": {
   "display_name": "Python 3",
   "language": "python",
   "name": "python3"
  },
  "language_info": {
   "codemirror_mode": {
    "name": "ipython",
    "version": 3
   },
   "file_extension": ".py",
   "mimetype": "text/x-python",
   "name": "python",
   "nbconvert_exporter": "python",
   "pygments_lexer": "ipython3",
   "version": "3.8.3"
  }
 },
 "nbformat": 4,
 "nbformat_minor": 4
}
